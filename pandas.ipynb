{
 "cells": [
  {
   "cell_type": "markdown",
   "id": "64d44da9-558f-4634-9de8-de0f46f93cfe",
   "metadata": {},
   "source": [
    "## Часть 1: Введение в Pandas\n",
    "\n",
    "Pandas - это библиотека Python для работы с данными. Она предоставляет мощные инструменты для анализа и манипуляции данными.\n",
    "\n",
    "### Установка Pandas\n",
    "\n",
    "Для начала убедитесь, что у вас установлена библиотека Pandas. Если ее нет, установите ее с помощью команды:\n"
   ]
  },
  {
   "cell_type": "code",
   "execution_count": null,
   "id": "7484df51-b002-414c-ae42-75a2df57c78d",
   "metadata": {},
   "outputs": [],
   "source": [
    "!pip install pandas"
   ]
  },
  {
   "cell_type": "markdown",
   "id": "4b655e29-c3a5-4117-9860-2d6b9af62ac1",
   "metadata": {},
   "source": [
    "## Импорт библиотеки\n",
    "Давайте начнем с импорта библиотеки Pandas:"
   ]
  },
  {
   "cell_type": "code",
   "execution_count": 1,
   "id": "bfc3346f-3843-4aff-aec0-54321b9774f0",
   "metadata": {
    "tags": []
   },
   "outputs": [],
   "source": [
    "import pandas as pd"
   ]
  },
  {
   "cell_type": "markdown",
   "id": "ea8530e9-c179-48c1-8043-ff87f415ee67",
   "metadata": {},
   "source": [
    "## Часть 2: Работа с данными\n",
    "### Чтение данных\n",
    "Мы будем использовать датасет Titanic. Давайте прочитаем данные из CSV файла."
   ]
  },
  {
   "cell_type": "code",
   "execution_count": null,
   "id": "fa5deec6-c85e-4d88-89df-bea7d75fcbba",
   "metadata": {},
   "outputs": [],
   "source": [
    "# Чтение данных из файла 'titanic.csv'\n",
    "# Используйте метод pd.read_csv()\n",
    "# write your code here\n",
    "per = pd.read_csv('titanic.csv')\n",
    "print(per)"
   ]
  },
  {
   "cell_type": "code",
   "execution_count": null,
   "id": "eb6b6573",
   "metadata": {
    "vscode": {
     "languageId": "perl"
    }
   },
   "outputs": [],
   "source": [
    "     PassengerId  Survived  Pclass  ...     Fare Cabin  Embarked\n",
    "0              1         0       3  ...   7.2500   NaN         S\n",
    "1              2         1       1  ...  71.2833   C85         C\n",
    "2              3         1       3  ...   7.9250   NaN         S\n",
    "3              4         1       1  ...  53.1000  C123         S\n",
    "4              5         0       3  ...   8.0500   NaN         S\n",
    "..           ...       ...     ...  ...      ...   ...       ...\n",
    "886          887         0       2  ...  13.0000   NaN         S\n",
    "887          888         1       1  ...  30.0000   B42         S\n",
    "888          889         0       3  ...  23.4500   NaN         S\n",
    "889          890         1       1  ...  30.0000  C148         C\n",
    "890          891         0       3  ...   7.7500   NaN         Q"
   ]
  },
  {
   "cell_type": "markdown",
   "id": "07dfd488-4960-495e-80d8-9cf5903449b6",
   "metadata": {},
   "source": [
    "### Предпросмотр данных\n",
    "Для первого ознакомления с данными давайте выведем первые несколько строк."
   ]
  },
  {
   "cell_type": "code",
   "execution_count": null,
   "id": "216e104c-259f-4ecd-9cd4-40362f61ca4e",
   "metadata": {},
   "outputs": [],
   "source": [
    "# Вывод первых 5 строк данных\n",
    "# Используйте метод .head()\n",
    "# write your code here\n",
    "per = pd.read_csv('titanic.csv')\n",
    "print(per.head())"
   ]
  },
  {
   "cell_type": "code",
   "execution_count": null,
   "id": "4be9cc8b",
   "metadata": {
    "vscode": {
     "languageId": "perl"
    }
   },
   "outputs": [],
   "source": [
    "   PassengerId  Survived  Pclass  ...     Fare Cabin  Embarked\n",
    "0            1         0       3  ...   7.2500   NaN         S\n",
    "1            2         1       1  ...  71.2833   C85         C\n",
    "2            3         1       3  ...   7.9250   NaN         S\n",
    "3            4         1       1  ...  53.1000  C123         S\n",
    "4            5         0       3  ...   8.0500   NaN         S"
   ]
  },
  {
   "cell_type": "markdown",
   "id": "b7ba5f57-07e1-4c0f-9b55-9d78638ee2cc",
   "metadata": {},
   "source": [
    "### Информация о данных\n",
    "Чтобы получить общую информацию о данных, воспользуйтесь методом .info()."
   ]
  },
  {
   "cell_type": "code",
   "execution_count": null,
   "id": "43650b4f-f3e7-4480-b874-b5552f564383",
   "metadata": {},
   "outputs": [],
   "source": [
    "per = pd.read_csv('titanic.csv')\n",
    "print(per.info())"
   ]
  },
  {
   "cell_type": "code",
   "execution_count": null,
   "id": "4f032664",
   "metadata": {
    "vscode": {
     "languageId": "perl"
    }
   },
   "outputs": [],
   "source": [
    "RangeIndex: 891 entries, 0 to 890\n",
    "Data columns (total 12 columns):\n",
    " #   Column       Non-Null Count  Dtype\n",
    "---  ------       --------------  -----\n",
    " 0   PassengerId  891 non-null    int64\n",
    " 1   Survived     891 non-null    int64\n",
    " 2   Pclass       891 non-null    int64\n",
    " 3   Name         891 non-null    object\n",
    " 4   Sex          891 non-null    object\n",
    " 5   Age          714 non-null    float64\n",
    " 6   SibSp        891 non-null    int64\n",
    " 7   Parch        891 non-null    int64\n",
    " 8   Ticket       891 non-null    object\n",
    " 9   Fare         891 non-null    float64\n",
    " 10  Cabin        204 non-null    object\n",
    " 11  Embarked     889 non-null    object\n",
    "dtypes: float64(2), int64(5), object(5)\n",
    "memory usage: 83.7+ KB\n",
    "None"
   ]
  },
  {
   "cell_type": "markdown",
   "id": "a6857118-a82e-4586-a933-4eb0df9cb74e",
   "metadata": {},
   "source": [
    "### Работа с NaN\n",
    "Часто данные содержат пропущенные значения, которые представляются как NaN (Not a Number). Pandas предоставляет удобные методы для работы с ними.\n",
    "\n",
    "Проверка на наличие NaN. Методы fillna и dropna возвращают новые Dataframe, проверьте нет ли в них NaN"
   ]
  },
  {
   "cell_type": "code",
   "execution_count": 2,
   "id": "f7910fde-24f7-4cf8-991d-01f08bc45b63",
   "metadata": {
    "tags": []
   },
   "outputs": [],
   "source": [
    "# Проверка на наличие NaN в DataFrame\n",
    "# Используйте метод .isna()\n",
    "# write your code here\n",
    "per = pd.read_csv('titanic.csv')\n",
    "print(per.isna().sum())"
   ]
  },
  {
   "cell_type": "code",
   "execution_count": null,
   "id": "6817f964",
   "metadata": {
    "vscode": {
     "languageId": "perl"
    }
   },
   "outputs": [],
   "source": [
    "PassengerId      0\n",
    "Survived         0\n",
    "Pclass           0\n",
    "Name             0\n",
    "Sex              0\n",
    "Age            177\n",
    "SibSp            0\n",
    "Parch            0\n",
    "Ticket           0\n",
    "Fare             0\n",
    "Cabin          687\n",
    "Embarked         2\n",
    "dtype: int64"
   ]
  },
  {
   "cell_type": "markdown",
   "id": "1dadeaf7-e214-4552-b054-8e4a03714f72",
   "metadata": {},
   "source": [
    "Заполнение NaN"
   ]
  },
  {
   "cell_type": "code",
   "execution_count": null,
   "id": "7d901187-75a9-497e-8774-6e0dde584197",
   "metadata": {},
   "outputs": [],
   "source": [
    "# Заполнение NaN определенным значением (например, нулем)\n",
    "# Используйте метод .fillna()\n",
    "# write your code here\n",
    "per = pd.read_csv('titanic.csv')\n",
    "print(per.fillna(0).head())"
   ]
  },
  {
   "cell_type": "code",
   "execution_count": null,
   "id": "d912ee1a",
   "metadata": {
    "vscode": {
     "languageId": "perl"
    }
   },
   "outputs": [],
   "source": [
    "   PassengerId  Survived  Pclass  ...     Fare Cabin  Embarked\n",
    "0            1         0       3  ...   7.2500     0         S\n",
    "1            2         1       1  ...  71.2833   C85         C\n",
    "2            3         1       3  ...   7.9250     0         S\n",
    "3            4         1       1  ...  53.1000  C123         S\n",
    "4            5         0       3  ...   8.0500     0         S"
   ]
  },
  {
   "cell_type": "markdown",
   "id": "6f32fddb-ec60-456b-8958-5c81b0357d49",
   "metadata": {},
   "source": [
    "Удаление строк с NaN"
   ]
  },
  {
   "cell_type": "code",
   "execution_count": 3,
   "id": "4d188deb-0818-4b01-b3a5-9d20d2166d10",
   "metadata": {
    "tags": []
   },
   "outputs": [],
   "source": [
    "per = pd.read_csv('titanic.csv')\n",
    "print(per.dropna().head())"
   ]
  },
  {
   "cell_type": "code",
   "execution_count": null,
   "id": "511ca9b2",
   "metadata": {
    "vscode": {
     "languageId": "perl"
    }
   },
   "outputs": [],
   "source": [
    "    PassengerId  Survived  Pclass  ...     Fare Cabin  Embarked\n",
    "1             2         1       1  ...  71.2833   C85         C\n",
    "3             4         1       1  ...  53.1000  C123         S\n",
    "6             7         0       1  ...  51.8625   E46         S\n",
    "10           11         1       3  ...  16.7000    G6         S\n",
    "11           12         1       1  ...  26.5500  C103         S"
   ]
  },
  {
   "cell_type": "markdown",
   "id": "7a4ff131-1593-4cd2-b2bc-e0ddb2442d3b",
   "metadata": {},
   "source": [
    "## Часть 3: Обработка DataFrame\n",
    "### Выбор данных\n",
    "Pandas позволяет выбирать данные по индексам, меткам столбцов и условиям."
   ]
  },
  {
   "cell_type": "code",
   "execution_count": 4,
   "id": "d11f6114-ce4b-4e71-afec-adf1d8c1ec6e",
   "metadata": {
    "tags": []
   },
   "outputs": [],
   "source": [
    "# Выбор столбца по метке\n",
    "# Используйте синтаксис DataFrame['название_столбца']\n",
    "# write your code here\n",
    "\n",
    "# Выбор нескольких столбцов\n",
    "# Используйте синтаксис DataFrame[['столбец_1', 'столбец_2']]\n",
    "# write your code here\n",
    "\n",
    "# Выбор строк по индексу\n",
    "# Используйте метод .loc[]\n",
    "# write your code here\n",
    "\n",
    "# Выбор строк и столбцов по условию\n",
    "# Используя логические операции, выберите мужчин старше 30\n",
    "# write your code here\n",
    "import pandas as pd\n",
    "per = pd.read_csv('titanic.csv')\n",
    "age = per['Age']\n",
    "select = per[['Name', 'Age']]\n",
    "row = per.loc[10]\n",
    "men_over_30 = per[(per['Sex'] == 'male') & (per['Age']>30)]\n",
    "print(men_over_30)"
   ]
  },
  {
   "cell_type": "code",
   "execution_count": null,
   "id": "dd572174",
   "metadata": {
    "vscode": {
     "languageId": "perl"
    }
   },
   "outputs": [],
   "source": [
    "     PassengerId  Survived  Pclass  ...     Fare        Cabin  Embarked\n",
    "4              5         0       3  ...   8.0500          NaN         S       \n",
    "6              7         0       1  ...  51.8625          E46         S       \n",
    "13            14         0       3  ...  31.2750          NaN         S       \n",
    "20            21         0       2  ...  26.0000          NaN         S       \n",
    "21            22         1       2  ...  13.0000          D56         S       \n",
    "..           ...       ...     ...  ...      ...          ...       ...       \n",
    "867          868         0       1  ...  50.4958          A24         S       \n",
    "872          873         0       1  ...   5.0000  B51 B53 B55         S       \n",
    "873          874         0       3  ...   9.0000          NaN         S       \n",
    "881          882         0       3  ...   7.8958          NaN         S       \n",
    "890          891         0       3  ...   7.7500          NaN         Q  "
   ]
  },
  {
   "cell_type": "markdown",
   "id": "f3102de8-d2fd-4593-bf26-721316ae51e9",
   "metadata": {},
   "source": [
    "### Сортировка данных\n",
    "Сортировка данных по значениям столбцов."
   ]
  },
  {
   "cell_type": "code",
   "execution_count": 5,
   "id": "de5e850c-e920-4ae4-aadb-3f1953438b09",
   "metadata": {
    "tags": []
   },
   "outputs": [],
   "source": [
    "# Сортировка данных по столбцу 'столбец_1' по возрастанию\n",
    "# Используйте метод .sort_values()\n",
    "# write your code here\n",
    "per = pd.read_csv('titanic.csv')\n",
    "print(per.sort_values(by='Age'))"
   ]
  },
  {
   "cell_type": "code",
   "execution_count": null,
   "id": "d078f74e",
   "metadata": {
    "vscode": {
     "languageId": "perl"
    }
   },
   "outputs": [],
   "source": [
    "     PassengerId  Survived  Pclass  ...     Fare Cabin  Embarked\n",
    "803          804         1       3  ...   8.5167   NaN         C\n",
    "755          756         1       2  ...  14.5000   NaN         S\n",
    "644          645         1       3  ...  19.2583   NaN         C\n",
    "469          470         1       3  ...  19.2583   NaN         C\n",
    "78            79         1       2  ...  29.0000   NaN         S\n",
    "..           ...       ...     ...  ...      ...   ...       ...\n",
    "859          860         0       3  ...   7.2292   NaN         C\n",
    "863          864         0       3  ...  69.5500   NaN         S\n",
    "868          869         0       3  ...   9.5000   NaN         S\n",
    "878          879         0       3  ...   7.8958   NaN         S\n",
    "888          889         0       3  ...  23.4500   NaN         S"
   ]
  },
  {
   "cell_type": "markdown",
   "id": "eab3cd85-5e96-4228-8834-9ef53b93689a",
   "metadata": {},
   "source": [
    "### Группировка данных\n",
    "Pandas также позволяет группировать данные и выполнять агрегирующие операции."
   ]
  },
  {
   "cell_type": "code",
   "execution_count": 6,
   "id": "25ced901-0482-49a8-8c12-d192e84e3fb3",
   "metadata": {
    "tags": []
   },
   "outputs": [],
   "source": [
    "# Найдите долю выживших среди всех PClass\n",
    "# Используйте метод .groupby()\n",
    "# write your code here\n",
    "per = pd.read_csv('titanic.csv')\n",
    "print(per.groupby('Pclass')['Survived'].mean())"
   ]
  },
  {
   "cell_type": "code",
   "execution_count": null,
   "id": "74a12fdd",
   "metadata": {
    "vscode": {
     "languageId": "perl"
    }
   },
   "outputs": [],
   "source": [
    "Pclass\n",
    "1    0.629630\n",
    "2    0.472826\n",
    "3    0.242363\n",
    "Name: Survived, dtype: float64"
   ]
  },
  {
   "cell_type": "markdown",
   "id": "d0355db7-7bf9-46d1-ad51-5f2eddc42501",
   "metadata": {},
   "source": [
    "## Часть 4: Задания для практики\n",
    "Прочитайте данные из файла 'titanic.csv'.\n",
    "Проверьте, есть ли пропущенные значения в данных и заполните их нулями.\n",
    "Выведите первые 10 строк данных.\n",
    "Выберите только те строки, где значение в столбце 'Age' больше 30.\n",
    "Отсортируйте данные по столбцу 'Fare' в порядке убывания.\n",
    "Сгруппируйте данные по столбцу 'Pclass' и вычислите средний возраст ('Age') для каждого класса."
   ]
  },
  {
   "cell_type": "code",
   "execution_count": null,
   "id": "a1b4deaa-cd06-41b3-8084-5c2d3a867811",
   "metadata": {},
   "outputs": [],
   "source": [
    "import pandas as pd\n",
    "\n",
    "per = pd.read_csv('titanic.csv')\n",
    "data = per.fillna(0)\n",
    "print(\"Первые 10 строк данных:\")\n",
    "print(data.head(10))\n",
    "\n",
    "age_bol_30 = data[data['Age']>30]\n",
    "print(\"\\nСтроки, где Age больше 30:\")\n",
    "print(age_bol_30)\n",
    "\n",
    "sorted_fare = data.sort_values(by='Fare', ascending=False)\n",
    "print(\"\\nДанные, отсортированные по столцу 'Fare' в порядке убывания:\")\n",
    "print(sorted_fare.head(8))\n",
    "\n",
    "sr_age_by_class = data.groupby('Pclass')['Age'].mean()\n",
    "print(\"\\nСредний возраст для кад=ждого класса Pclass\")\n",
    "print(sr_age_by_class)"
   ]
  },
  {
   "cell_type": "code",
   "execution_count": null,
   "id": "9377fc3c",
   "metadata": {
    "vscode": {
     "languageId": "perl"
    }
   },
   "outputs": [],
   "source": [
    "Первые 10 строк данных:\n",
    "   PassengerId  Survived  Pclass  ...     Fare Cabin  Embarked\n",
    "0            1         0       3  ...   7.2500     0         S\n",
    "1            2         1       1  ...  71.2833   C85         C\n",
    "2            3         1       3  ...   7.9250     0         S\n",
    "3            4         1       1  ...  53.1000  C123         S\n",
    "4            5         0       3  ...   8.0500     0         S\n",
    "5            6         0       3  ...   8.4583     0         Q\n",
    "6            7         0       1  ...  51.8625   E46         S\n",
    "7            8         0       3  ...  21.0750     0         S\n",
    "8            9         1       3  ...  11.1333     0         S\n",
    "9           10         1       2  ...  30.0708     0         C\n",
    "\n",
    "[10 rows x 12 columns]\n",
    "\n",
    "Строки, где Age больше 30:\n",
    "     PassengerId  Survived  Pclass  ...     Fare Cabin  Embarked\n",
    "1              2         1       1  ...  71.2833   C85         C\n",
    "3              4         1       1  ...  53.1000  C123         S\n",
    "4              5         0       3  ...   8.0500     0         S\n",
    "6              7         0       1  ...  51.8625   E46         S\n",
    "11            12         1       1  ...  26.5500  C103         S\n",
    "..           ...       ...     ...  ...      ...   ...       ...\n",
    "873          874         0       3  ...   9.0000     0         S\n",
    "879          880         1       1  ...  83.1583   C50         C\n",
    "881          882         0       3  ...   7.8958     0         S\n",
    "885          886         0       3  ...  29.1250     0         Q\n",
    "890          891         0       3  ...   7.7500     0         Q\n",
    "\n",
    "[305 rows x 12 columns]\n",
    "\n",
    "Данные, отсортированные по столцу 'Fare' в порядке убывания:\n",
    "     PassengerId  Survived  Pclass  ...      Fare            Cabin  Embarked  \n",
    "258          259         1       1  ...  512.3292                0         C  \n",
    "737          738         1       1  ...  512.3292             B101         C  \n",
    "679          680         1       1  ...  512.3292      B51 B53 B55         C  \n",
    "88            89         1       1  ...  263.0000      C23 C25 C27         S  \n",
    "27            28         0       1  ...  263.0000      C23 C25 C27         S  \n",
    "341          342         1       1  ...  263.0000      C23 C25 C27         S  \n",
    "438          439         0       1  ...  263.0000      C23 C25 C27         S  \n",
    "311          312         1       1  ...  262.3750  B57 B59 B63 B66         C  \n",
    "\n",
    "[8 rows x 12 columns]\n",
    "\n",
    "Средний возраст для кад=ждого класса Pclass\n",
    "Pclass\n",
    "1    32.923241\n",
    "2    28.091467\n",
    "3    18.177026\n",
    "Name: Age, dtype: float64"
   ]
  }
 ],
 "metadata": {
  "kernelspec": {
   "display_name": "Python 3 (ipykernel)",
   "language": "python",
   "name": "python3"
  },
  "language_info": {
   "codemirror_mode": {
    "name": "ipython",
    "version": 3
   },
   "file_extension": ".py",
   "mimetype": "text/x-python",
   "name": "python",
   "nbconvert_exporter": "python",
   "pygments_lexer": "ipython3",
   "version": "3.11.5"
  }
 },
 "nbformat": 4,
 "nbformat_minor": 5
}
