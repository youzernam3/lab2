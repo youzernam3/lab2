{
 "cells": [
  {
   "cell_type": "markdown",
   "metadata": {},
   "source": [
    "# Лабораторная работа - Корреляционный анализ в Python\n"
   ]
  },
  {
   "cell_type": "markdown",
   "metadata": {},
   "source": [
    "### Цели\n",
    "\n",
    "* Часть 1: Набор данных\n",
    "* Часть 2: Диаграммы рассеяния и корреляционные переменные\n",
    "* Часть 3: Расчёт корреляции с Python\n",
    "* Часть 4: Визуализация"
   ]
  },
  {
   "cell_type": "markdown",
   "metadata": {},
   "source": [
    "### История / Cценарий\n",
    "\n",
    "Корреляция является важной статистической зависимостью, которая может указывать, связаны ли линейные значения переменных.\n",
    "\n",
    "В этой лабораторной работе вы узнаете, как использовать Python для расчета корреляции. В Части 1 Вы подготовите набор данных. В Части 2 Вы узнаете, как определить, являются ли переменные в данном наборе данных взаимозависимыми. Наконец, в Части 3, Вы будете использовать Python для вычисления корреляции между двумя наборами переменных."
   ]
  },
  {
   "cell_type": "markdown",
   "metadata": {},
   "source": [
    "### Необходимо:\n",
    "* Библиотеки Python: pandas, numpy, matplotlib, seaborn\n",
    "* Файл данных: brainsize.txt"
   ]
  },
  {
   "cell_type": "markdown",
   "metadata": {},
   "source": [
    "## Часть 1: Набор данных"
   ]
  },
  {
   "cell_type": "markdown",
   "metadata": {},
   "source": [
    "Вы будете использовать набор данных, который содержит выборку 40 студентов правшей с вводного курса по Психологии из университета Southwestern. Испытуемые прошли четыре субтеста (Vocabulary, Similarities, Block Design, и Picture Completion) для расчёта шкалы интеллекта взрослых по Векслеру. Исследователи использовали магнитно-резонансную томографию (МРТ) для определения размера мозга у субъектов. Также включены сведения о гендерных показателях и размере тела (рост и вес). Исследователи скрыли вес двух испытуемых и высоту одного из них по причинам конфиденциальности.\n",
    "Для набора данных были применены две простые модификации:\n",
    "\n",
    "1. Заменены вопросительные знаки, используемые для представления скрытых данных, описанных выше, строкой «NaN». Замена была выполнена, потому что Pandas не обрабатывает вопросительные знаки правильно.\n",
    "\n",
    "2. Заменены все символы табуляции запятыми, преобразуя набор данных в набор данных CSV.\n",
    "\n",
    "Готовый набор данных сохранён как `brainsize.txt`."
   ]
  },
  {
   "cell_type": "markdown",
   "metadata": {},
   "source": [
    "#### Шаг 1: Загрузка набора данных из файла.\n",
    "\n",
    "До того, как набор данных можно использовать, он должен быть загружен в память.\n",
    "\n",
    "В приведенном ниже коде первая строка импортирует модули `pandas` и определяет `pd` как дескриптор, который ссылается на один из модулей.\n",
    "\n",
    "Вторая строка загружает CSV-файл набора данных в переменную с именем `brainFile`.\n",
    "\n",
    "Третья строка использует метод `read_csv()` из библиотеки `pandas`, чтобы преобразовать набор данных CSV, хранящийся в `brainFile` в кадр данных. Затем кадр данных хранится в переменной `brainFrame`.\n",
    "\n",
    "Запустите ячейку ниже, чтобы выполнить описанные функции."
   ]
  },
  {
   "cell_type": "code",
   "execution_count": null,
   "metadata": {},
   "outputs": [],
   "source": [
    "import pandas as pd\n",
    "brainFrame = pd.read_csv('brainsize.txt', delimiter='\\t')"
   ]
  },
  {
   "cell_type": "markdown",
   "metadata": {},
   "source": [
    "#### Шаг 2. Проверка кадра данных.\n",
    "\n",
    "Чтобы убедиться, что кадр данных правильно загружен и создан, используйте метод `head()`. Метод `head()` отображает первые пять записей в кадре данных."
   ]
  },
  {
   "cell_type": "code",
   "execution_count": null,
   "metadata": {},
   "outputs": [],
   "source": [
    "print(brainFrame.head())"
   ]
  },
  {
   "cell_type": "code",
   "execution_count": null,
   "metadata": {
    "vscode": {
     "languageId": "powershell"
    }
   },
   "outputs": [],
   "source": [
    "   Gender  FSIQ  VIQ  PIQ  Weight  Height  MRI_Count\n",
    "0  Female   133  132  124   118.0    64.5     816932\n",
    "1    Male   140  150  124     NaN    72.5    1001121\n",
    "2    Male   139  123  150   143.0    73.3    1038437\n",
    "3    Male   133  129  128   172.0    68.8     965353\n",
    "4  Female   137  132  134   147.0    65.0     951545"
   ]
  },
  {
   "cell_type": "markdown",
   "metadata": {},
   "source": [
    "Метод head() принимает параметр - число строк, отобразите первые 10 строк таблицы"
   ]
  },
  {
   "cell_type": "code",
   "execution_count": null,
   "metadata": {},
   "outputs": [],
   "source": [
    "print(brainFrame.head(10))"
   ]
  },
  {
   "cell_type": "code",
   "execution_count": null,
   "metadata": {
    "vscode": {
     "languageId": "powershell"
    }
   },
   "outputs": [],
   "source": [
    "   Gender  FSIQ  VIQ  PIQ  Weight  Height  MRI_Count\n",
    "0  Female   133  132  124   118.0    64.5     816932\n",
    "1    Male   140  150  124     NaN    72.5    1001121\n",
    "2    Male   139  123  150   143.0    73.3    1038437\n",
    "3    Male   133  129  128   172.0    68.8     965353\n",
    "4  Female   137  132  134   147.0    65.0     951545\n",
    "5  Female    99   90  110   146.0    69.0     928799\n",
    "6  Female   138  136  131   138.0    64.5     991305\n",
    "7  Female    92   90   98   175.0    66.0     854258\n",
    "8    Male    89   93   84   134.0    66.3     904858\n",
    "9    Male   133  114  147   172.0    68.8     955466"
   ]
  },
  {
   "cell_type": "markdown",
   "metadata": {},
   "source": [
    "Также Dataframe имеет метод tail(), который возвращает последние 5 строк кадра данных. Аналогично head() метод tail() принимает аргументом число строк, которые он вернет. Отобразите последние 8 строк таблицы."
   ]
  },
  {
   "cell_type": "code",
   "execution_count": null,
   "metadata": {},
   "outputs": [],
   "source": [
    "print(brainFrame.tail(8))"
   ]
  },
  {
   "cell_type": "code",
   "execution_count": null,
   "metadata": {
    "vscode": {
     "languageId": "powershell"
    }
   },
   "outputs": [],
   "source": [
    "    Gender  FSIQ  VIQ  PIQ  Weight  Height  MRI_Count\n",
    "32    Male   103   96  110   192.0    75.5     997925\n",
    "33    Male    90   96   86   181.0    69.0     879987\n",
    "34  Female    83   90   81   143.0    66.5     834344\n",
    "35  Female   133  129  128   153.0    66.5     948066\n",
    "36    Male   140  150  124   144.0    70.5     949395\n",
    "37  Female    88   86   94   139.0    64.5     893983\n",
    "38    Male    81   90   74   148.0    74.0     930016\n",
    "39    Male    89   91   89   179.0    75.5     935863"
   ]
  },
  {
   "cell_type": "markdown",
   "metadata": {},
   "source": [
    "## Часть 2: Диаграммы рассеяния и корреляционные переменные"
   ]
  },
  {
   "cell_type": "markdown",
   "metadata": {},
   "source": [
    "#### Шаг 1: метод `describe()` в библиотеке pandas.\n",
    "Библиотека pandas включает в себя метод `describe()`, который выполняет одни и те же общие вычисления на предложенном наборе данных. Помимо базовых операций таких, как подсчёт, расчёт среднего значения, расчёт среднеквадратического отклонения, расчёт минимума, и максимума,  `describe()` также отличный способ быстро проверить достоверность значений в кадре данных.<p>\n",
    "Ниже используйте функцию describe, для вывода статистики по данным"
   ]
  },
  {
   "cell_type": "code",
   "execution_count": null,
   "metadata": {},
   "outputs": [],
   "source": [
    "print(brainFrame.describe())"
   ]
  },
  {
   "cell_type": "code",
   "execution_count": null,
   "metadata": {
    "vscode": {
     "languageId": "perl"
    }
   },
   "outputs": [],
   "source": [
    "             FSIQ         VIQ        PIQ      Weight     Height     MRI_Count\n",
    "count   40.000000   40.000000   40.00000   38.000000  39.000000  4.000000e+01\n",
    "mean   113.450000  112.350000  111.02500  151.052632  68.525641  9.087550e+05\n",
    "std     24.082071   23.616107   22.47105   23.478509   3.994649  7.228205e+04\n",
    "min     77.000000   71.000000   72.00000  106.000000  62.000000  7.906190e+05\n",
    "25%     89.750000   90.000000   88.25000  135.250000  66.000000  8.559185e+05\n",
    "50%    116.500000  113.000000  115.00000  146.500000  68.000000  9.053990e+05\n",
    "75%    135.500000  129.750000  128.00000  172.000000  70.500000  9.500780e+05\n",
    "max    144.000000  150.000000  150.00000  192.000000  77.000000  1.079549e+06"
   ]
  },
  {
   "cell_type": "markdown",
   "metadata": {},
   "source": [
    "#### Шаг 2: Диаграммы рассеяния\n",
    "\n",
    "Диаграммы рассеяния важны при работе с корреляциями, поскольку они позволяют быстро визуально проверить природу связи между переменными. В этой лабораторной работе используется коэффициент корреляции Пирсона, который чувствителен только к линейной зависимости между двумя переменными. Также существуют другие более надежные методы корреляции, но они выходят за рамки этой лабораторной работы.\n",
    "\n",
    "##### a. Загрузите необходимые модули.\n",
    "Прежде чем строить графики, необходимо импортировать несколько модулей, а именно `numpy` и `matplotlib`. Запустите ячейку ниже, чтобы загрузить эти модули."
   ]
  },
  {
   "cell_type": "code",
   "execution_count": null,
   "metadata": {},
   "outputs": [],
   "source": [
    "import numpy as np\n",
    "import matplotlib.pyplot as plt"
   ]
  },
  {
   "cell_type": "markdown",
   "metadata": {},
   "source": [
    "##### b. Разделите данные.\n",
    "Чтобы гарантировать, что результаты не будут искажены из-за различий в мужских и женских телах, кадр данных разбит на два: один содержит все мужские записи, а другой - только женские экземпляры. <p>\n",
    "Создайте два новых кадра данных: menDf и womenDf, каждый из которых содержит соответствующие записи."
   ]
  },
  {
   "cell_type": "code",
   "execution_count": null,
   "metadata": {},
   "outputs": [],
   "source": [
    "menDf = brainFrame[brainFrame['gender'] == 'male']\n",
    "womenDf = brainFrame[brainFrame['gender'] == 'female']"
   ]
  },
  {
   "cell_type": "markdown",
   "metadata": {},
   "source": [
    "##### c. Постройте графики.\n",
    "Поскольку набор данных включает в себя три различных измерения интеллекта (PIQ, FSIQ и VIQ), первая строка ниже использует метод `mean()` из библиотеки Pandas для вычисления среднего значения между тремя измерениями и сохранения результата в переменной `menMeanSmarts`. Обратите внимание, что первая строка относится к menDf, отфильтрованному кадру данных, содержащему только мужские записи.<p>\n",
    "Вторая строка использует метод `scatter()` библиотеки `matplotlib` для создания графика диаграммы рассеяния между переменной `menMeanSmarts` и атрибутом `MRI_Count`. MRI_Count в этом наборе данных можно рассматривать как меру физического размера мозга испытуемых.<p>\n",
    "Третья строка просто отображает график.<p>\n",
    "Четвертая строка используется для гарантированного отображения графика в этом блокноте."
   ]
  },
  {
   "cell_type": "code",
   "execution_count": null,
   "metadata": {},
   "outputs": [],
   "source": [
    "# Ячейка для кода № 6\n",
    "menMeanSmarts = menDf[['PIQ', 'FSIQ', 'VIQ']].mean(axis=1)\n",
    "plt.scatter(menMeanSmarts, menDf['MRI_Count'])\n",
    "plt.xlabel(\"Средний интеллект (PIQ, FSIQ, VIQ)\")\n",
    "plt.ylabel(\"Размер мозга (MRI_Count)\")\n",
    "plt.show()\n",
    "plt.tight_layout()\n"
   ]
  },
  {
   "cell_type": "markdown",
   "metadata": {
    "vscode": {
     "languageId": "perl"
    }
   },
   "source": [
    "![alt text](Figure_3.png)"
   ]
  },
  {
   "cell_type": "markdown",
   "metadata": {},
   "source": [
    "Аналогичным образом создайте график диаграммы рассеяния для кадра данных, содержащему только женские записи."
   ]
  },
  {
   "cell_type": "code",
   "execution_count": null,
   "metadata": {
    "scrolled": true
   },
   "outputs": [],
   "source": [
    "# Ячейка для кода № 7\n",
    "# Постройка графика диаграммы рассеяния для кадра данных с женскими записями\n",
    "womenMeanSmarts = womenDf[[\"PIQ\", \"FSIQ\", \"VIQ\"]].mean(axis=1)\n",
    "plt.scatter(womenMeanSmarts, menDf[\"MRI_Count\"])\n",
    "plt.xlabel(\"Средний интеллект (PIQ, FSIQ, VIQ)\")\n",
    "plt.ylabel(\"Размер мозга (MRI_Count)\")\n",
    "plt.show()\n",
    "plt.tight_layout()"
   ]
  },
  {
   "cell_type": "markdown",
   "metadata": {},
   "source": [
    "![alt text](Figure_4.png)"
   ]
  },
  {
   "cell_type": "markdown",
   "metadata": {},
   "source": [
    "## Часть 3: Вычисление корреляции с Python\n"
   ]
  },
  {
   "cell_type": "markdown",
   "metadata": {},
   "source": [
    "#### Шаг 1: Рассчитайте корреляцию для brainFrame.\n",
    "Метод `corr()` библиотеки pandas обеспечивает простой способ вычисления корреляции для кадра данных. Просто применяя метод на кадре данных, можно получить корреляцию между всеми переменными одновременно."
   ]
  },
  {
   "cell_type": "code",
   "execution_count": null,
   "metadata": {},
   "outputs": [],
   "source": [
    "correlation = brainFrame[[\"FSIQ\", \"VIQ\", \"PIQ\", \"Weight\", \"Height\", \"MRI_Count\"]].corr()\n",
    "print(correlation)"
   ]
  },
  {
   "cell_type": "code",
   "execution_count": null,
   "metadata": {
    "vscode": {
     "languageId": "perl"
    }
   },
   "outputs": [],
   "source": [
    "               FSIQ       VIQ       PIQ    Weight    Height  MRI_Count\n",
    "FSIQ       1.000000  0.946639  0.934125 -0.051483 -0.086002   0.357641\n",
    "VIQ        0.946639  1.000000  0.778135 -0.076088 -0.071068   0.337478\n",
    "PIQ        0.934125  0.778135  1.000000  0.002512 -0.076723   0.386817\n",
    "Weight    -0.051483 -0.076088  0.002512  1.000000  0.699614   0.513378\n",
    "Height    -0.086002 -0.071068 -0.076723  0.699614  1.000000   0.601712\n",
    "MRI_Count  0.357641  0.337478  0.386817  0.513378  0.601712   1.000000"
   ]
  },
  {
   "cell_type": "markdown",
   "metadata": {},
   "source": [
    "Обратите внимание на диагональ слева направо в таблице корреляции, сгенерированной выше. Почему диагональ заполнена значениями 1? Это совпадение? Объясните."
   ]
  },
  {
   "cell_type": "markdown",
   "metadata": {},
   "source": [
    "Да, ожидаемо. Это происходит потому, что каждая переменная всегда идеально коррелирует сама с собой."
   ]
  },
  {
   "cell_type": "markdown",
   "metadata": {},
   "source": [
    "Продолжая смотреть на таблицу корреляции выше, обратите внимание, что значения зеркалируются; значения под диагональю имеют зеркальный аналог над ней. Это совпадение? Объясните."
   ]
  },
  {
   "cell_type": "markdown",
   "metadata": {},
   "source": [
    "Если предположить, что корреляция между FSIQ и VIQ равна 1, то, вероятно, должна существовать аналогичная корреляция между VIQ и FSIQ."
   ]
  },
  {
   "cell_type": "markdown",
   "metadata": {},
   "source": [
    "Используя тот же метод `corr()`, вычислите корреляцию переменных, содержащихся в кадре с женскими записями:"
   ]
  },
  {
   "cell_type": "code",
   "execution_count": null,
   "metadata": {},
   "outputs": [],
   "source": [
    "correlation = womenDf[[\"FSIQ\", \"VIQ\", \"PIQ\", \"Weight\", \"Height\", \"MRI_Count\"]].corr()\n",
    "print(correlation)"
   ]
  },
  {
   "cell_type": "code",
   "execution_count": null,
   "metadata": {
    "vscode": {
     "languageId": "perl"
    }
   },
   "outputs": [],
   "source": [
    "               FSIQ       VIQ       PIQ    Weight    Height  MRI_Count\n",
    "FSIQ       1.000000  0.955717  0.939382  0.038192 -0.059011   0.325697\n",
    "VIQ        0.955717  1.000000  0.802652 -0.021889 -0.146453   0.254933\n",
    "PIQ        0.939382  0.802652  1.000000  0.113901 -0.001242   0.396157\n",
    "Weight     0.038192 -0.021889  0.113901  1.000000  0.552357   0.446271\n",
    "Height    -0.059011 -0.146453 -0.001242  0.552357  1.000000   0.174541\n",
    "MRI_Count  0.325697  0.254933  0.396157  0.446271  0.174541   1.000000"
   ]
  },
  {
   "cell_type": "markdown",
   "metadata": {},
   "source": [
    "И то же самое можно сделать для переменных, содержащихся в кадре с мужскими записями:"
   ]
  },
  {
   "cell_type": "code",
   "execution_count": null,
   "metadata": {},
   "outputs": [],
   "source": [
    "# Используйте corr() для расчёта критерия корреляции Пирсона для кадра данных с мужчинами\n",
    "correlation = menDf[[\"FSIQ\", \"VIQ\", \"PIQ\", \"Weight\", \"Height\", \"MRI_Count\"]].corr()\n",
    "print(correlation)"
   ]
  },
  {
   "cell_type": "code",
   "execution_count": null,
   "metadata": {
    "vscode": {
     "languageId": "perl"
    }
   },
   "outputs": [],
   "source": [
    "               FSIQ       VIQ       PIQ    Weight    Height  MRI_Count\n",
    "FSIQ       1.000000  0.944400  0.930694 -0.278140 -0.356110   0.498369\n",
    "VIQ        0.944400  1.000000  0.766021 -0.350453 -0.355588   0.413105\n",
    "PIQ        0.930694  0.766021  1.000000 -0.156863 -0.287676   0.568237\n",
    "Weight    -0.278140 -0.350453 -0.156863  1.000000  0.406542  -0.076875\n",
    "Height    -0.356110 -0.355588 -0.287676  0.406542  1.000000   0.301543\n",
    "MRI_Count  0.498369  0.413105  0.568237 -0.076875  0.301543   1.000000"
   ]
  },
  {
   "cell_type": "markdown",
   "metadata": {},
   "source": [
    "## Часть 4: Визуализация"
   ]
  },
  {
   "cell_type": "markdown",
   "metadata": {},
   "source": [
    "#### Шаг 1: Установите Seaborn.\n",
    "Чтобы упростить визуализацию корреляций данных, можно использовать тепловую карту. На основе цветных квадратов тепловая карта может помочь выявить корреляции с первого взгляда.\n",
    "\n",
    "Модуль Python с именем `seaborn` очень упрощает построение тепловых карт.\n",
    "\n",
    "Сначала запустите ячейку ниже, чтобы загрузить и установить модуль `seaborn`. (закомментируйте, если библиотека установлена)"
   ]
  },
  {
   "cell_type": "code",
   "execution_count": null,
   "metadata": {},
   "outputs": [],
   "source": [
    "# Ячейка для кода № 11\n",
    "pip install seaborn"
   ]
  },
  {
   "cell_type": "code",
   "execution_count": null,
   "metadata": {
    "vscode": {
     "languageId": "perl"
    }
   },
   "outputs": [],
   "source": [
    "Defaulting to user installation because normal site-packages is not writeable\n",
    "Collecting seaborn\n",
    "  Downloading seaborn-0.13.2-py3-none-any.whl.metadata (5.4 kB)\n",
    "Requirement already satisfied: numpy!=1.24.0,>=1.20 in c:\\users\\nazar\\appdata\\local\\packages\\pythonsoftwarefoundation.python.3.12_qbz5n2kfra8p0\\localcache\\local-packages\\python312\\site-packages (from seaborn) (2.1.2)\n",
    "Requirement already satisfied: pandas>=1.2 in c:\\users\\nazar\\appdata\\local\\packages\\pythonsoftwarefoundation.python.3.12_qbz5n2kfra8p0\\localcache\\local-packages\\python312\\site-packages (from seaborn) (2.2.3)\n",
    "Requirement already satisfied: matplotlib!=3.6.1,>=3.4 in c:\\users\\nazar\\appdata\\local\\packages\\pythonsoftwarefoundation.python.3.12_qbz5n2kfra8p0\\localcache\\local-packages\\python312\\site-packages (from seaborn) (3.9.2)\n",
    "Requirement already satisfied: contourpy>=1.0.1 in c:\\users\\nazar\\appdata\\local\\packages\\pythonsoftwarefoundation.python.3.12_qbz5n2kfra8p0\\localcache\\local-packages\\python312\\site-packages (from matplotlib!=3.6.1,>=3.4->seaborn) (1.3.0)\n",
    "Requirement already satisfied: cycler>=0.10 in c:\\users\\nazar\\appdata\\local\\packages\\pythonsoftwarefoundation.python.3.12_qbz5n2kfra8p0\\localcache\\local-packages\\python312\\site-packages (from matplotlib!=3.6.1,>=3.4->seaborn) (0.12.1)\n",
    "Requirement already satisfied: fonttools>=4.22.0 in c:\\users\\nazar\\appdata\\local\\packages\\pythonsoftwarefoundation.python.3.12_qbz5n2kfra8p0\\localcache\\local-packages\\python312\\site-packages (from matplotlib!=3.6.1,>=3.4->seaborn) (4.54.1)\n",
    "Requirement already satisfied: kiwisolver>=1.3.1 in c:\\users\\nazar\\appdata\\local\\packages\\pythonsoftwarefoundation.python.3.12_qbz5n2kfra8p0\\localcache\\local-packages\\python312\\site-packages (from matplotlib!=3.6.1,>=3.4->seaborn) (1.4.7)\n",
    "Requirement already satisfied: packaging>=20.0 in c:\\users\\nazar\\appdata\\local\\packages\\pythonsoftwarefoundation.python.3.12_qbz5n2kfra8p0\\localcache\\local-packages\\python312\\site-packages (from matplotlib!=3.6.1,>=3.4->seaborn) (24.1)\n",
    "Requirement already satisfied: pillow>=8 in c:\\users\\nazar\\appdata\\local\\packages\\pythonsoftwarefoundation.python.3.12_qbz5n2kfra8p0\\localcache\\local-packages\\python312\\site-packages (from matplotlib!=3.6.1,>=3.4->seaborn) (10.4.0)\n",
    "Requirement already satisfied: pyparsing>=2.3.1 in c:\\users\\nazar\\appdata\\local\\packages\\pythonsoftwarefoundation.python.3.12_qbz5n2kfra8p0\\localcache\\local-packages\\python312\\site-packages (from matplotlib!=3.6.1,>=3.4->seaborn) (3.1.4)\n",
    "Requirement already satisfied: python-dateutil>=2.7 in c:\\users\\nazar\\appdata\\local\\packages\\pythonsoftwarefoundation.python.3.12_qbz5n2kfra8p0\\localcache\\local-packages\\python312\\site-packages (from matplotlib!=3.6.1,>=3.4->seaborn) (2.9.0.post0)\n",
    "Requirement already satisfied: pytz>=2020.1 in c:\\users\\nazar\\appdata\\local\\packages\\pythonsoftwarefoundation.python.3.12_qbz5n2kfra8p0\\localcache\\local-packages\\python312\\site-packages (from pandas>=1.2->seaborn) (2024.2)      \n",
    "Requirement already satisfied: tzdata>=2022.7 in c:\\users\\nazar\\appdata\\local\\packages\\pythonsoftwarefoundation.python.3.12_qbz5n2kfra8p0\\localcache\\local-packages\\python312\\site-packages (from pandas>=1.2->seaborn) (2024.2)    \n",
    "Requirement already satisfied: six>=1.5 in c:\\users\\nazar\\appdata\\local\\packages\\pythonsoftwarefoundation.python.3.12_qbz5n2kfra8p0\\localcache\\local-packages\\python312\\site-packages (from python-dateutil>=2.7->matplotlib!=3.6.1,>=3.4->seaborn) (1.16.0)\n",
    "Downloading seaborn-0.13.2-py3-none-any.whl (294 kB)\n",
    "Installing collected packages: seaborn\n",
    "Successfully installed seaborn-0.13.2"
   ]
  },
  {
   "cell_type": "markdown",
   "metadata": {},
   "source": [
    "#### Шаг 2: Нарисуйте корреляционную тепловую карту.\n",
    "\n",
    "Теперь, когда кадры данных готовы, можно отобразить тепловые карты. Далее приведен анализ кода из ячейки ниже:\n",
    "\n",
    "Строка 1: Создает таблицу корреляции, основанную на фрейме данных `womenNoGenderDf` и хранит его в `wcorr`.<br>\n",
    "Строка 2: Использует метод `heatmap()` библиотеки `seaborn` для генерации и построения тепловой карты. Обратите внимание, что `heatmap()` принимает `wcorr`, как параметр.<br>\n",
    "Строка 3: используется для экспорта и сохранения созданной тепловой карты в виде PNG-изображения. Хотя строка 3 не активна (перед ней стоит символ `#`, заставляя интерпретатор игнорировать ее), она сохранена в информационных целях."
   ]
  },
  {
   "cell_type": "code",
   "execution_count": null,
   "metadata": {},
   "outputs": [],
   "source": [
    "# Ячейка для кода № 12\n",
    "import seaborn as sns\n",
    "wcorr = womenDf.drop(columns=['Gender']).corr()\n",
    "plt.figure(figsize=(10, 8))\n",
    "sns.heatmap(wcorr, annot=True, cmap='coolwarm', fmt='.2f', square=True)\n",
    "plt.show()"
   ]
  },
  {
   "cell_type": "markdown",
   "metadata": {
    "vscode": {
     "languageId": "raw"
    }
   },
   "source": [
    "![alt text](Figure_2-1.png)"
   ]
  },
  {
   "cell_type": "markdown",
   "metadata": {},
   "source": [
    "Аналогичным образом создайте и отобразите тепловую карту для кадра данных с мужчинами."
   ]
  },
  {
   "cell_type": "code",
   "execution_count": null,
   "metadata": {},
   "outputs": [],
   "source": [
    "# Ячейка для кода № 14\n",
    "mcorr = menDf.drop(columns=['Gender']).corr()\n",
    "plt.figure(figsize=(10, 8))\n",
    "sns.heatmap(mcorr, annot=True, cmap='coolwarm', fmt='.2f', square=True)\n",
    "plt.show()"
   ]
  },
  {
   "cell_type": "markdown",
   "metadata": {},
   "source": [
    "![alt text](Figure_2.png)"
   ]
  },
  {
   "cell_type": "markdown",
   "metadata": {},
   "source": [
    "У многих пар переменных корреляция близка к нулю. Что это значит?"
   ]
  },
  {
   "cell_type": "markdown",
   "metadata": {},
   "source": [
    "Корреляция близкая к нулю указывает на отсутствие линейной связи между двумя переменными. Это не означает, что между ними нет связи вообще, а лишь подчеркивает, что такая связь не является линейной."
   ]
  },
  {
   "cell_type": "markdown",
   "metadata": {},
   "source": [
    "Зачем делать разделение по полу?"
   ]
  },
  {
   "cell_type": "markdown",
   "metadata": {},
   "source": [
    "Разделение данных по полу (или другим категориальным признакам) позволяет выявить более точные различия в анализируемых параметрах между группами."
   ]
  },
  {
   "cell_type": "markdown",
   "metadata": {},
   "source": [
    "Какие переменные имеют более сильную корреляцию с размером мозга (MRI_Count)? Это ожидалось? Объясните."
   ]
  },
  {
   "cell_type": "markdown",
   "metadata": {},
   "source": [
    "Переменные, имеющие более сильную корреляцию с размером мозга (MRI_Count), включают Weight и Height для общей выборки, и в меньшей степени PIQ (Performance IQ) у мужчин.\n",
    "Это можно считать ожидаемым, так как более высокий вес и рост часто ассоциируются с большим объёмом тела и, соответственно, с большим размером мозга."
   ]
  }
 ],
 "metadata": {
  "anaconda-cloud": {},
  "kernelspec": {
   "display_name": "Python 3",
   "language": "python",
   "name": "python3"
  },
  "language_info": {
   "codemirror_mode": {
    "name": "ipython",
    "version": 3
   },
   "file_extension": ".py",
   "mimetype": "text/x-python",
   "name": "python",
   "nbconvert_exporter": "python",
   "pygments_lexer": "ipython3",
   "version": "3.12.4"
  }
 },
 "nbformat": 4,
 "nbformat_minor": 4
}
